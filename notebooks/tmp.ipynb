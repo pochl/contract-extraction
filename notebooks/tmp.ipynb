{
 "cells": [
  {
   "cell_type": "code",
   "execution_count": 27,
   "metadata": {},
   "outputs": [],
   "source": [
    "import sys, os\n",
    "from pathlib import Path\n",
    "from tqdm import tqdm\n",
    "\n",
    "sys.path.append(str(Path(os.path.abspath(os.curdir)).parent))\n",
    "\n",
    "from src.preprocessing.dataset import Dataset"
   ]
  },
  {
   "cell_type": "code",
   "execution_count": 6,
   "metadata": {},
   "outputs": [
    {
     "name": "stderr",
     "output_type": "stream",
     "text": [
      "loading contexts: 100%|██████████| 408/408 [00:00<00:00, 518.16it/s]\n",
      "loading questions: 100%|██████████| 41/41 [00:00<00:00, 13298.78it/s]\n",
      "generating sub-samples spans: 100%|██████████| 11180/11180 [00:02<00:00, 4094.15it/s]\n"
     ]
    }
   ],
   "source": [
    "tokenized_dir = '../resources/tokenized_data/roberta-base'\n",
    "max_length = 512\n",
    "stride = 128\n",
    "min_answer_length = 100\n",
    "\n",
    "model_name = \"roberta-base\"\n",
    "\n",
    "model_dir = f\"../resources/models/{model_name}\"\n",
    "\n",
    "\n",
    "train_dataset = Dataset(tokenized_dir, max_length, stride, min_answer_length)"
   ]
  },
  {
   "cell_type": "code",
   "execution_count": 40,
   "metadata": {},
   "outputs": [],
   "source": [
    "contain_answer = train_dataset.subsample_spans.answer_end != 0"
   ]
  },
  {
   "cell_type": "code",
   "execution_count": 41,
   "metadata": {},
   "outputs": [
    {
     "data": {
      "text/html": [
       "<div>\n",
       "<style scoped>\n",
       "    .dataframe tbody tr th:only-of-type {\n",
       "        vertical-align: middle;\n",
       "    }\n",
       "\n",
       "    .dataframe tbody tr th {\n",
       "        vertical-align: top;\n",
       "    }\n",
       "\n",
       "    .dataframe thead th {\n",
       "        text-align: right;\n",
       "    }\n",
       "</style>\n",
       "<table border=\"1\" class=\"dataframe\">\n",
       "  <thead>\n",
       "    <tr style=\"text-align: right;\">\n",
       "      <th></th>\n",
       "      <th>question_id</th>\n",
       "      <th>context_id</th>\n",
       "      <th>subcontext_start</th>\n",
       "      <th>subcontext_end</th>\n",
       "      <th>answer_start</th>\n",
       "      <th>answer_end</th>\n",
       "    </tr>\n",
       "  </thead>\n",
       "  <tbody>\n",
       "    <tr>\n",
       "      <th>0</th>\n",
       "      <td>Document Name</td>\n",
       "      <td>LIMEENERGYCO_09_09_1999-EX-10-DISTRIBUTOR AGRE...</td>\n",
       "      <td>0</td>\n",
       "      <td>475</td>\n",
       "      <td>72</td>\n",
       "      <td>78</td>\n",
       "    </tr>\n",
       "    <tr>\n",
       "      <th>1</th>\n",
       "      <td>Document Name</td>\n",
       "      <td>LIMEENERGYCO_09_09_1999-EX-10-DISTRIBUTOR AGRE...</td>\n",
       "      <td>348</td>\n",
       "      <td>823</td>\n",
       "      <td>0</td>\n",
       "      <td>0</td>\n",
       "    </tr>\n",
       "    <tr>\n",
       "      <th>2</th>\n",
       "      <td>Document Name</td>\n",
       "      <td>LIMEENERGYCO_09_09_1999-EX-10-DISTRIBUTOR AGRE...</td>\n",
       "      <td>696</td>\n",
       "      <td>1171</td>\n",
       "      <td>0</td>\n",
       "      <td>0</td>\n",
       "    </tr>\n",
       "    <tr>\n",
       "      <th>3</th>\n",
       "      <td>Document Name</td>\n",
       "      <td>LIMEENERGYCO_09_09_1999-EX-10-DISTRIBUTOR AGRE...</td>\n",
       "      <td>1044</td>\n",
       "      <td>1519</td>\n",
       "      <td>0</td>\n",
       "      <td>0</td>\n",
       "    </tr>\n",
       "    <tr>\n",
       "      <th>4</th>\n",
       "      <td>Document Name</td>\n",
       "      <td>LIMEENERGYCO_09_09_1999-EX-10-DISTRIBUTOR AGRE...</td>\n",
       "      <td>1392</td>\n",
       "      <td>1867</td>\n",
       "      <td>0</td>\n",
       "      <td>0</td>\n",
       "    </tr>\n",
       "    <tr>\n",
       "      <th>...</th>\n",
       "      <td>...</td>\n",
       "      <td>...</td>\n",
       "      <td>...</td>\n",
       "      <td>...</td>\n",
       "      <td>...</td>\n",
       "      <td>...</td>\n",
       "    </tr>\n",
       "    <tr>\n",
       "      <th>696724</th>\n",
       "      <td>Insurance</td>\n",
       "      <td>PerformanceSportsBrandsInc_20110909_S-1_EX-10....</td>\n",
       "      <td>4648</td>\n",
       "      <td>5107</td>\n",
       "      <td>376</td>\n",
       "      <td>398</td>\n",
       "    </tr>\n",
       "    <tr>\n",
       "      <th>696725</th>\n",
       "      <td>Insurance</td>\n",
       "      <td>PerformanceSportsBrandsInc_20110909_S-1_EX-10....</td>\n",
       "      <td>4980</td>\n",
       "      <td>5439</td>\n",
       "      <td>0</td>\n",
       "      <td>0</td>\n",
       "    </tr>\n",
       "    <tr>\n",
       "      <th>696726</th>\n",
       "      <td>Insurance</td>\n",
       "      <td>PerformanceSportsBrandsInc_20110909_S-1_EX-10....</td>\n",
       "      <td>5312</td>\n",
       "      <td>5771</td>\n",
       "      <td>0</td>\n",
       "      <td>0</td>\n",
       "    </tr>\n",
       "    <tr>\n",
       "      <th>696727</th>\n",
       "      <td>Insurance</td>\n",
       "      <td>PerformanceSportsBrandsInc_20110909_S-1_EX-10....</td>\n",
       "      <td>5644</td>\n",
       "      <td>6103</td>\n",
       "      <td>0</td>\n",
       "      <td>0</td>\n",
       "    </tr>\n",
       "    <tr>\n",
       "      <th>696728</th>\n",
       "      <td>Insurance</td>\n",
       "      <td>PerformanceSportsBrandsInc_20110909_S-1_EX-10....</td>\n",
       "      <td>5976</td>\n",
       "      <td>6435</td>\n",
       "      <td>0</td>\n",
       "      <td>0</td>\n",
       "    </tr>\n",
       "  </tbody>\n",
       "</table>\n",
       "<p>696729 rows × 6 columns</p>\n",
       "</div>"
      ],
      "text/plain": [
       "          question_id                                         context_id  \\\n",
       "0       Document Name  LIMEENERGYCO_09_09_1999-EX-10-DISTRIBUTOR AGRE...   \n",
       "1       Document Name  LIMEENERGYCO_09_09_1999-EX-10-DISTRIBUTOR AGRE...   \n",
       "2       Document Name  LIMEENERGYCO_09_09_1999-EX-10-DISTRIBUTOR AGRE...   \n",
       "3       Document Name  LIMEENERGYCO_09_09_1999-EX-10-DISTRIBUTOR AGRE...   \n",
       "4       Document Name  LIMEENERGYCO_09_09_1999-EX-10-DISTRIBUTOR AGRE...   \n",
       "...               ...                                                ...   \n",
       "696724      Insurance  PerformanceSportsBrandsInc_20110909_S-1_EX-10....   \n",
       "696725      Insurance  PerformanceSportsBrandsInc_20110909_S-1_EX-10....   \n",
       "696726      Insurance  PerformanceSportsBrandsInc_20110909_S-1_EX-10....   \n",
       "696727      Insurance  PerformanceSportsBrandsInc_20110909_S-1_EX-10....   \n",
       "696728      Insurance  PerformanceSportsBrandsInc_20110909_S-1_EX-10....   \n",
       "\n",
       "        subcontext_start  subcontext_end  answer_start  answer_end  \n",
       "0                      0             475            72          78  \n",
       "1                    348             823             0           0  \n",
       "2                    696            1171             0           0  \n",
       "3                   1044            1519             0           0  \n",
       "4                   1392            1867             0           0  \n",
       "...                  ...             ...           ...         ...  \n",
       "696724              4648            5107           376         398  \n",
       "696725              4980            5439             0           0  \n",
       "696726              5312            5771             0           0  \n",
       "696727              5644            6103             0           0  \n",
       "696728              5976            6435             0           0  \n",
       "\n",
       "[696729 rows x 6 columns]"
      ]
     },
     "execution_count": 41,
     "metadata": {},
     "output_type": "execute_result"
    }
   ],
   "source": [
    "train_dataset.subsample_spans"
   ]
  },
  {
   "cell_type": "code",
   "execution_count": 23,
   "metadata": {},
   "outputs": [],
   "source": [
    "occ = dft.groupby(['question_id', 'context_id'])['contain_answer'].sum().reset_index()"
   ]
  },
  {
   "cell_type": "code",
   "execution_count": 24,
   "metadata": {},
   "outputs": [
    {
     "data": {
      "text/plain": [
       "0       Affiliate License-Licensee\n",
       "1       Affiliate License-Licensee\n",
       "2       Affiliate License-Licensee\n",
       "3       Affiliate License-Licensee\n",
       "4       Affiliate License-Licensee\n",
       "                   ...            \n",
       "5453             Warranty Duration\n",
       "5454             Warranty Duration\n",
       "5455             Warranty Duration\n",
       "5456             Warranty Duration\n",
       "5457             Warranty Duration\n",
       "Name: question_id, Length: 5458, dtype: object"
      ]
     },
     "execution_count": 24,
     "metadata": {},
     "output_type": "execute_result"
    }
   ],
   "source": [
    "occ['question_id']"
   ]
  },
  {
   "cell_type": "code",
   "execution_count": 28,
   "metadata": {},
   "outputs": [
    {
     "name": "stderr",
     "output_type": "stream",
     "text": [
      "0it [00:00, ?it/s]/var/folders/kt/d510b2jj6vscmdv_qwvjcgp00000gn/T/ipykernel_4234/2546815966.py:2: UserWarning: Boolean Series key will be reindexed to match DataFrame index.\n",
      "  dft[~dft['contain_answer']][(dft.question_id==row.question_id) & (dft.context_id==row.context_id)]\n",
      "88it [00:05, 17.15it/s]\n"
     ]
    },
    {
     "ename": "KeyboardInterrupt",
     "evalue": "",
     "output_type": "error",
     "traceback": [
      "\u001b[0;31m---------------------------------------------------------------------------\u001b[0m",
      "\u001b[0;31mKeyboardInterrupt\u001b[0m                         Traceback (most recent call last)",
      "Cell \u001b[0;32mIn[28], line 2\u001b[0m\n\u001b[1;32m      1\u001b[0m \u001b[39mfor\u001b[39;00m i, row \u001b[39min\u001b[39;00m tqdm(occ\u001b[39m.\u001b[39miterrows()):\n\u001b[0;32m----> 2\u001b[0m     dft[\u001b[39m~\u001b[39;49mdft[\u001b[39m'\u001b[39;49m\u001b[39mcontain_answer\u001b[39;49m\u001b[39m'\u001b[39;49m]][(dft\u001b[39m.\u001b[39;49mquestion_id\u001b[39m==\u001b[39;49mrow\u001b[39m.\u001b[39;49mquestion_id) \u001b[39m&\u001b[39;49m (dft\u001b[39m.\u001b[39;49mcontext_id\u001b[39m==\u001b[39;49mrow\u001b[39m.\u001b[39;49mcontext_id)]\n",
      "File \u001b[0;32m~/opt/miniconda3/envs/conext/lib/python3.10/site-packages/pandas/core/frame.py:3798\u001b[0m, in \u001b[0;36mDataFrame.__getitem__\u001b[0;34m(self, key)\u001b[0m\n\u001b[1;32m   3796\u001b[0m \u001b[39m# Do we have a (boolean) 1d indexer?\u001b[39;00m\n\u001b[1;32m   3797\u001b[0m \u001b[39mif\u001b[39;00m com\u001b[39m.\u001b[39mis_bool_indexer(key):\n\u001b[0;32m-> 3798\u001b[0m     \u001b[39mreturn\u001b[39;00m \u001b[39mself\u001b[39;49m\u001b[39m.\u001b[39;49m_getitem_bool_array(key)\n\u001b[1;32m   3800\u001b[0m \u001b[39m# We are left with two options: a single key, and a collection of keys,\u001b[39;00m\n\u001b[1;32m   3801\u001b[0m \u001b[39m# We interpret tuples as collections only for non-MultiIndex\u001b[39;00m\n\u001b[1;32m   3802\u001b[0m is_single_key \u001b[39m=\u001b[39m \u001b[39misinstance\u001b[39m(key, \u001b[39mtuple\u001b[39m) \u001b[39mor\u001b[39;00m \u001b[39mnot\u001b[39;00m is_list_like(key)\n",
      "File \u001b[0;32m~/opt/miniconda3/envs/conext/lib/python3.10/site-packages/pandas/core/frame.py:3851\u001b[0m, in \u001b[0;36mDataFrame._getitem_bool_array\u001b[0;34m(self, key)\u001b[0m\n\u001b[1;32m   3845\u001b[0m     \u001b[39mraise\u001b[39;00m \u001b[39mValueError\u001b[39;00m(\n\u001b[1;32m   3846\u001b[0m         \u001b[39mf\u001b[39m\u001b[39m\"\u001b[39m\u001b[39mItem wrong length \u001b[39m\u001b[39m{\u001b[39;00m\u001b[39mlen\u001b[39m(key)\u001b[39m}\u001b[39;00m\u001b[39m instead of \u001b[39m\u001b[39m{\u001b[39;00m\u001b[39mlen\u001b[39m(\u001b[39mself\u001b[39m\u001b[39m.\u001b[39mindex)\u001b[39m}\u001b[39;00m\u001b[39m.\u001b[39m\u001b[39m\"\u001b[39m\n\u001b[1;32m   3847\u001b[0m     )\n\u001b[1;32m   3849\u001b[0m \u001b[39m# check_bool_indexer will throw exception if Series key cannot\u001b[39;00m\n\u001b[1;32m   3850\u001b[0m \u001b[39m# be reindexed to match DataFrame rows\u001b[39;00m\n\u001b[0;32m-> 3851\u001b[0m key \u001b[39m=\u001b[39m check_bool_indexer(\u001b[39mself\u001b[39;49m\u001b[39m.\u001b[39;49mindex, key)\n\u001b[1;32m   3852\u001b[0m indexer \u001b[39m=\u001b[39m key\u001b[39m.\u001b[39mnonzero()[\u001b[39m0\u001b[39m]\n\u001b[1;32m   3853\u001b[0m \u001b[39mreturn\u001b[39;00m \u001b[39mself\u001b[39m\u001b[39m.\u001b[39m_take_with_is_copy(indexer, axis\u001b[39m=\u001b[39m\u001b[39m0\u001b[39m)\n",
      "File \u001b[0;32m~/opt/miniconda3/envs/conext/lib/python3.10/site-packages/pandas/core/indexing.py:2558\u001b[0m, in \u001b[0;36mcheck_bool_indexer\u001b[0;34m(index, key)\u001b[0m\n\u001b[1;32m   2551\u001b[0m \u001b[39mif\u001b[39;00m \u001b[39m-\u001b[39m\u001b[39m1\u001b[39m \u001b[39min\u001b[39;00m indexer:\n\u001b[1;32m   2552\u001b[0m     \u001b[39mraise\u001b[39;00m IndexingError(\n\u001b[1;32m   2553\u001b[0m         \u001b[39m\"\u001b[39m\u001b[39mUnalignable boolean Series provided as \u001b[39m\u001b[39m\"\u001b[39m\n\u001b[1;32m   2554\u001b[0m         \u001b[39m\"\u001b[39m\u001b[39mindexer (index of the boolean Series and of \u001b[39m\u001b[39m\"\u001b[39m\n\u001b[1;32m   2555\u001b[0m         \u001b[39m\"\u001b[39m\u001b[39mthe indexed object do not match).\u001b[39m\u001b[39m\"\u001b[39m\n\u001b[1;32m   2556\u001b[0m     )\n\u001b[0;32m-> 2558\u001b[0m result \u001b[39m=\u001b[39m result\u001b[39m.\u001b[39;49mtake(indexer)\n\u001b[1;32m   2560\u001b[0m \u001b[39m# fall through for boolean\u001b[39;00m\n\u001b[1;32m   2561\u001b[0m \u001b[39mif\u001b[39;00m \u001b[39mnot\u001b[39;00m is_extension_array_dtype(result\u001b[39m.\u001b[39mdtype):\n",
      "File \u001b[0;32m~/opt/miniconda3/envs/conext/lib/python3.10/site-packages/pandas/core/series.py:931\u001b[0m, in \u001b[0;36mSeries.take\u001b[0;34m(self, indices, axis, is_copy, **kwargs)\u001b[0m\n\u001b[1;32m    929\u001b[0m indices \u001b[39m=\u001b[39m ensure_platform_int(indices)\n\u001b[1;32m    930\u001b[0m new_index \u001b[39m=\u001b[39m \u001b[39mself\u001b[39m\u001b[39m.\u001b[39mindex\u001b[39m.\u001b[39mtake(indices)\n\u001b[0;32m--> 931\u001b[0m new_values \u001b[39m=\u001b[39m \u001b[39mself\u001b[39;49m\u001b[39m.\u001b[39;49m_values\u001b[39m.\u001b[39;49mtake(indices)\n\u001b[1;32m    933\u001b[0m result \u001b[39m=\u001b[39m \u001b[39mself\u001b[39m\u001b[39m.\u001b[39m_constructor(new_values, index\u001b[39m=\u001b[39mnew_index, fastpath\u001b[39m=\u001b[39m\u001b[39mTrue\u001b[39;00m)\n\u001b[1;32m    934\u001b[0m \u001b[39mreturn\u001b[39;00m result\u001b[39m.\u001b[39m__finalize__(\u001b[39mself\u001b[39m, method\u001b[39m=\u001b[39m\u001b[39m\"\u001b[39m\u001b[39mtake\u001b[39m\u001b[39m\"\u001b[39m)\n",
      "\u001b[0;31mKeyboardInterrupt\u001b[0m: "
     ]
    }
   ],
   "source": [
    "for i, row in tqdm(occ.iterrows()):\n",
    "    dft[~dft['contain_answer']][(dft.question_id==row.question_id) & (dft.context_id==row.context_id)]"
   ]
  },
  {
   "cell_type": "code",
   "execution_count": null,
   "metadata": {},
   "outputs": [],
   "source": []
  }
 ],
 "metadata": {
  "kernelspec": {
   "display_name": "Python 3 (ipykernel)",
   "language": "python",
   "name": "python3"
  },
  "language_info": {
   "codemirror_mode": {
    "name": "ipython",
    "version": 3
   },
   "file_extension": ".py",
   "mimetype": "text/x-python",
   "name": "python",
   "nbconvert_exporter": "python",
   "pygments_lexer": "ipython3",
   "version": "3.10.9"
  },
  "vscode": {
   "interpreter": {
    "hash": "1177cfccdad7b0049f2113029d35bc96c662ae077d2c5a8779469eeccbad9e4c"
   }
  }
 },
 "nbformat": 4,
 "nbformat_minor": 2
}
