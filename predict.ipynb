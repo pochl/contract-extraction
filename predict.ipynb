{
 "cells": [
  {
   "cell_type": "code",
   "execution_count": null,
   "metadata": {},
   "outputs": [],
   "source": []
  }
 ],
 "metadata": {
  "kernelspec": {
   "display_name": "conext",
   "language": "python",
   "name": "python3"
  },
  "language_info": {
   "name": "python",
   "version": "3.10.9"
  },
  "orig_nbformat": 4,
  "vscode": {
   "interpreter": {
    "hash": "1177cfccdad7b0049f2113029d35bc96c662ae077d2c5a8779469eeccbad9e4c"
   }
  }
 },
 "nbformat": 4,
 "nbformat_minor": 2
}
